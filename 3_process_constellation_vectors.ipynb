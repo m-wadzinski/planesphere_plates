{
 "cells": [
  {
   "cell_type": "code",
   "execution_count": 1,
   "metadata": {},
   "outputs": [],
   "source": [
    "import pandas as pd"
   ]
  },
  {
   "cell_type": "code",
   "execution_count": 2,
   "metadata": {},
   "outputs": [
    {
     "name": "stdout",
     "output_type": "stream",
     "text": [
      "Author: ELEANOR LUTZ\n",
      "\n",
      "Python implementation: CPython\n",
      "Python version       : 3.12.3\n",
      "IPython version      : 8.25.0\n",
      "\n",
      "Compiler    : MSC v.1938 64 bit (AMD64)\n",
      "OS          : Windows\n",
      "Release     : 11\n",
      "Machine     : AMD64\n",
      "Processor   : AMD64 Family 25 Model 80 Stepping 0, AuthenticAMD\n",
      "CPU cores   : 16\n",
      "Architecture: 64bit\n",
      "\n",
      "pandas   : 2.2.2\n",
      "watermark: 2.4.3\n",
      "\n"
     ]
    }
   ],
   "source": [
    "# Watermark is not required for this code, but is included for information. \n",
    "import watermark\n",
    "%load_ext watermark\n",
    "%watermark -a \"ELEANOR LUTZ\" -d -v -iv -m"
   ]
  },
  {
   "cell_type": "markdown",
   "metadata": {},
   "source": [
    "## Data Source\n",
    "The data used in this Jupyter Notebook is from the 1989 [Catalogue of Constellation Boundary Data](http://cdsarc.u-strasbg.fr/viz-bin/Cat?VI/49#sRM2.2) by A.C. Davenhall and S.K. Leggett, and was used with permission from the Royal Observatory Edinburgh."
   ]
  },
  {
   "cell_type": "code",
   "execution_count": 3,
   "metadata": {},
   "outputs": [
    {
     "data": {
      "text/html": [
       "<div>\n",
       "<style scoped>\n",
       "    .dataframe tbody tr th:only-of-type {\n",
       "        vertical-align: middle;\n",
       "    }\n",
       "\n",
       "    .dataframe tbody tr th {\n",
       "        vertical-align: top;\n",
       "    }\n",
       "\n",
       "    .dataframe thead th {\n",
       "        text-align: right;\n",
       "    }\n",
       "</style>\n",
       "<table border=\"1\" class=\"dataframe\">\n",
       "  <thead>\n",
       "    <tr style=\"text-align: right;\">\n",
       "      <th></th>\n",
       "      <th>right_ascension_hours</th>\n",
       "      <th>declination_degrees</th>\n",
       "      <th>const_abbreviation</th>\n",
       "      <th>type_point</th>\n",
       "    </tr>\n",
       "  </thead>\n",
       "  <tbody>\n",
       "    <tr>\n",
       "      <th>0</th>\n",
       "      <td>23.535713</td>\n",
       "      <td>35.189774</td>\n",
       "      <td>AND</td>\n",
       "      <td>I</td>\n",
       "    </tr>\n",
       "    <tr>\n",
       "      <th>1</th>\n",
       "      <td>23.468492</td>\n",
       "      <td>35.188026</td>\n",
       "      <td>AND</td>\n",
       "      <td>I</td>\n",
       "    </tr>\n",
       "    <tr>\n",
       "      <th>2</th>\n",
       "      <td>23.401264</td>\n",
       "      <td>35.186070</td>\n",
       "      <td>AND</td>\n",
       "      <td>I</td>\n",
       "    </tr>\n",
       "    <tr>\n",
       "      <th>3</th>\n",
       "      <td>23.334036</td>\n",
       "      <td>35.183899</td>\n",
       "      <td>AND</td>\n",
       "      <td>I</td>\n",
       "    </tr>\n",
       "    <tr>\n",
       "      <th>4</th>\n",
       "      <td>23.266823</td>\n",
       "      <td>35.181519</td>\n",
       "      <td>AND</td>\n",
       "      <td>I</td>\n",
       "    </tr>\n",
       "  </tbody>\n",
       "</table>\n",
       "</div>"
      ],
      "text/plain": [
       "   right_ascension_hours  declination_degrees const_abbreviation type_point\n",
       "0              23.535713            35.189774                AND          I\n",
       "1              23.468492            35.188026                AND          I\n",
       "2              23.401264            35.186070                AND          I\n",
       "3              23.334036            35.183899                AND          I\n",
       "4              23.266823            35.181519                AND          I"
      ]
     },
     "metadata": {},
     "output_type": "display_data"
    },
    {
     "data": {
      "text/html": [
       "<div>\n",
       "<style scoped>\n",
       "    .dataframe tbody tr th:only-of-type {\n",
       "        vertical-align: middle;\n",
       "    }\n",
       "\n",
       "    .dataframe tbody tr th {\n",
       "        vertical-align: top;\n",
       "    }\n",
       "\n",
       "    .dataframe thead th {\n",
       "        text-align: right;\n",
       "    }\n",
       "</style>\n",
       "<table border=\"1\" class=\"dataframe\">\n",
       "  <thead>\n",
       "    <tr style=\"text-align: right;\">\n",
       "      <th></th>\n",
       "      <th>name</th>\n",
       "      <th>ra</th>\n",
       "      <th>dec</th>\n",
       "    </tr>\n",
       "  </thead>\n",
       "  <tbody>\n",
       "    <tr>\n",
       "      <th>0</th>\n",
       "      <td>AND</td>\n",
       "      <td>[23.5357132, 23.4684925, 23.4012642, 23.334035...</td>\n",
       "      <td>[35.1897736, 35.1880264, 35.1860695, 35.183898...</td>\n",
       "    </tr>\n",
       "    <tr>\n",
       "      <th>1</th>\n",
       "      <td>ANT</td>\n",
       "      <td>[9.7783384, 9.7113781, 9.644412, 9.5774498, 9....</td>\n",
       "      <td>[-24.5768433, -24.5699406, -24.5628624, -24.55...</td>\n",
       "    </tr>\n",
       "    <tr>\n",
       "      <th>2</th>\n",
       "      <td>APS</td>\n",
       "      <td>[13.8582325, 13.8653402, 13.8736773, 13.883596...</td>\n",
       "      <td>[-76.6233521, -77.6230698, -78.6227417, -79.62...</td>\n",
       "    </tr>\n",
       "    <tr>\n",
       "      <th>3</th>\n",
       "      <td>AQL</td>\n",
       "      <td>[18.6924114, 18.6916103, 18.6908112, 18.690013...</td>\n",
       "      <td>[-2.8842952, -1.8843669, -0.8844388, 0.1154895...</td>\n",
       "    </tr>\n",
       "    <tr>\n",
       "      <th>4</th>\n",
       "      <td>AQR</td>\n",
       "      <td>[20.6450005, 20.6443596, 20.6437206, 20.643085...</td>\n",
       "      <td>[-7.5634623, -6.563508, -5.5635533, -4.5635982...</td>\n",
       "    </tr>\n",
       "  </tbody>\n",
       "</table>\n",
       "</div>"
      ],
      "text/plain": [
       "  name                                                 ra  \\\n",
       "0  AND  [23.5357132, 23.4684925, 23.4012642, 23.334035...   \n",
       "1  ANT  [9.7783384, 9.7113781, 9.644412, 9.5774498, 9....   \n",
       "2  APS  [13.8582325, 13.8653402, 13.8736773, 13.883596...   \n",
       "3  AQL  [18.6924114, 18.6916103, 18.6908112, 18.690013...   \n",
       "4  AQR  [20.6450005, 20.6443596, 20.6437206, 20.643085...   \n",
       "\n",
       "                                                 dec  \n",
       "0  [35.1897736, 35.1880264, 35.1860695, 35.183898...  \n",
       "1  [-24.5768433, -24.5699406, -24.5628624, -24.55...  \n",
       "2  [-76.6233521, -77.6230698, -78.6227417, -79.62...  \n",
       "3  [-2.8842952, -1.8843669, -0.8844388, 0.1154895...  \n",
       "4  [-7.5634623, -6.563508, -5.5635533, -4.5635982...  "
      ]
     },
     "metadata": {},
     "output_type": "display_data"
    }
   ],
   "source": [
    "colwidths = [11, 11, 5, 100]\n",
    "colnames = ['right_ascension_hours', 'declination_degrees', 'const_abbreviation', 'type_point']\n",
    "\n",
    "df = pd.read_fwf('./data/VI_49/bound_20.dat', widths=colwidths, names=colnames)\n",
    "display(df.head())\n",
    "\n",
    "const, ras, decs = [], [], []\n",
    "\n",
    "for name, group in df.groupby('const_abbreviation'):\n",
    "    const.append(name)\n",
    "    ras.append(group['right_ascension_hours'].tolist())\n",
    "    decs.append(group['declination_degrees'].tolist())\n",
    "    \n",
    "df_ra_dec = pd.DataFrame(data={'name':const, 'ra':ras, 'dec':decs})\n",
    "display(df_ra_dec.head())\n",
    "\n",
    "savename = './data/processed/constellations.csv'\n",
    "df_ra_dec.to_csv('./data/processed/constellations.csv', index=False)"
   ]
  },
  {
   "cell_type": "code",
   "execution_count": null,
   "metadata": {},
   "outputs": [],
   "source": []
  }
 ],
 "metadata": {
  "kernelspec": {
   "display_name": "Python 3",
   "language": "python",
   "name": "python3"
  },
  "language_info": {
   "codemirror_mode": {
    "name": "ipython",
    "version": 3
   },
   "file_extension": ".py",
   "mimetype": "text/x-python",
   "name": "python",
   "nbconvert_exporter": "python",
   "pygments_lexer": "ipython3",
   "version": "3.12.3"
  }
 },
 "nbformat": 4,
 "nbformat_minor": 2
}
